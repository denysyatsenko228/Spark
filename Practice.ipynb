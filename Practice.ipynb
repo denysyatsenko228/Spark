{
 "cells": [
  {
   "cell_type": "code",
   "execution_count": 13,
   "metadata": {},
   "outputs": [],
   "source": [
    "from pyspark import SparkConf, SparkContext\n",
    "import os\n",
    "import shutil"
   ]
  },
  {
   "cell_type": "code",
   "execution_count": 14,
   "metadata": {},
   "outputs": [],
   "source": [
    "# Change to True to run the program on full dataset\n",
    "isProd = False"
   ]
  },
  {
   "cell_type": "code",
   "execution_count": 15,
   "metadata": {},
   "outputs": [],
   "source": [
    "number_cores = 2\n",
    "memory_gb = 4 \n",
    "# Create a configuration object and\n",
    "# set the name of the application\n",
    "conf = (\n",
    "    SparkConf()\n",
    "        .setAppName(\"SparkTask\")\n",
    "        .setMaster('local[{}]'.format(number_cores))\n",
    "        .set('spark.driver.memory', '{}g'.format(memory_gb))\n",
    ")\n",
    "# Create a Spark Context object\n",
    "sc = SparkContext(conf=conf)"
   ]
  },
  {
   "cell_type": "markdown",
   "metadata": {},
   "source": [
    "# Solution"
   ]
  },
  {
   "cell_type": "code",
   "execution_count": 16,
   "metadata": {},
   "outputs": [],
   "source": [
    "# Read the input file\n",
    "if isProd:\n",
    "    if not os.path.exists('input/Reviews.csv'):\n",
    "        sc.stop()\n",
    "        raise Exception(\"\"\"\n",
    "            Download the 'Reviews.csv' file from https://www.kaggle.com/datasets/snap/amazon-fine-food-reviews\n",
    "            and put it in 'input' folder\n",
    "        \"\"\")\n",
    "    else:\n",
    "        inputRdd = sc.textFile(\"input/Reviews.csv\")\n",
    "else:\n",
    "    inputRdd = sc.textFile(\"/Users/denys/Desktop/Programming/Spark/spark-task-template/input/Sample.csv\")"
   ]
  },
  {
   "cell_type": "code",
   "execution_count": 17,
   "metadata": {},
   "outputs": [],
   "source": [
    "# Remove the header\n",
    "filteredInput = inputRdd.filter(lambda line: line.startswith(\"Id,\") == False)\n"
   ]
  },
  {
   "cell_type": "markdown",
   "metadata": {},
   "source": [
    "# Note\n",
    "\n",
    "Make sure you save program output to **output** folder"
   ]
  },
  {
   "cell_type": "code",
   "execution_count": 18,
   "metadata": {},
   "outputs": [
    {
     "name": "stderr",
     "output_type": "stream",
     "text": [
      "                                                                                \r"
     ]
    },
    {
     "data": {
      "text/plain": [
       "[['A2', 'B1'],\n",
       " ['A4', 'B1'],\n",
       " ['A5', 'B1'],\n",
       " ['A1', 'B2'],\n",
       " ['A2', 'B3'],\n",
       " ['A3', 'B3'],\n",
       " ['A4', 'B3'],\n",
       " ['A5', 'B3'],\n",
       " ['A4', 'B4'],\n",
       " ['A2', 'B5'],\n",
       " ['A4', 'B5'],\n",
       " ['A2', 'B1'],\n",
       " ['A4', 'B5'],\n",
       " ['A5', 'B5']]"
      ]
     },
     "execution_count": 18,
     "metadata": {},
     "output_type": "execute_result"
    }
   ],
   "source": [
    "# Your code starts here\n",
    "# result.saveAsTextFile(\"output/my_result\")\n",
    "UserProduct = filteredInput.map(lambda x: x.split(\",\")[2] + \",\" + x.split(\",\")[1]).map(lambda x: x.split(\",\"))\n",
    "UserProduct.collect()\n"
   ]
  },
  {
   "cell_type": "code",
   "execution_count": 19,
   "metadata": {},
   "outputs": [
    {
     "data": {
      "text/plain": [
       "[('A1', {'B2'}),\n",
       " ('A2', {'B1', 'B3', 'B5'}),\n",
       " ('A3', {'B3'}),\n",
       " ('A4', {'B1', 'B3', 'B4', 'B5'}),\n",
       " ('A5', {'B1', 'B3', 'B5'})]"
      ]
     },
     "execution_count": 19,
     "metadata": {},
     "output_type": "execute_result"
    }
   ],
   "source": [
    "zero_value = set()\n",
    "\n",
    "def seq_op(x,y):\n",
    "    x.add(y)\n",
    "    return x\n",
    "\n",
    "def comb_op(x,y):\n",
    "    return x.union(y)\n",
    "\n",
    "UserProducts = UserProduct.aggregateByKey(zero_value, seq_op, comb_op).sortByKey()\n",
    "UserProducts.collect()"
   ]
  },
  {
   "cell_type": "code",
   "execution_count": 20,
   "metadata": {},
   "outputs": [
    {
     "name": "stdout",
     "output_type": "stream",
     "text": [
      "[{'B5', 'B1', 'B3'}, {'B5', 'B1', 'B4', 'B3'}, {'B5', 'B1', 'B3'}]\n"
     ]
    }
   ],
   "source": [
    "ProductPairs = list(UserProducts.reduceByKey(lambda a,b: b.lookup(a)).map(lambda r: r[1]).filter(lambda x: len(x)>1).collect())\n",
    "print(ProductPairs)"
   ]
  },
  {
   "cell_type": "code",
   "execution_count": 22,
   "metadata": {},
   "outputs": [
    {
     "name": "stdout",
     "output_type": "stream",
     "text": [
      "['B5B1', 'B1B3', 'B5B1', 'B1B4', 'B4B3', 'B5B1', 'B1B3']\n"
     ]
    }
   ],
   "source": [
    "i = 0\n",
    "j = 0 \n",
    "tupleProduct = []\n",
    "tempList = []\n",
    "for x in ProductPairs:\n",
    "    tempList.append(list(x))\n",
    "while i < len(tempList):\n",
    "    while j<len(tempList[i])-1:\n",
    "        tupleProduct.append(tempList[i][j]+tempList[i][j+1])\n",
    "        j+=1\n",
    "    i+=1\n",
    "    j=0\n",
    "print(tupleProduct)"
   ]
  },
  {
   "cell_type": "code",
   "execution_count": 23,
   "metadata": {},
   "outputs": [
    {
     "data": {
      "text/plain": [
       "[('B5B1', 1),\n",
       " ('B1B3', 1),\n",
       " ('B5B1', 1),\n",
       " ('B1B4', 1),\n",
       " ('B4B3', 1),\n",
       " ('B5B1', 1),\n",
       " ('B1B3', 1)]"
      ]
     },
     "execution_count": 23,
     "metadata": {},
     "output_type": "execute_result"
    }
   ],
   "source": [
    "nextStep = sc.parallelize(tupleProduct)\n",
    "tupleProductWithOne = nextStep.map(lambda x: (x,1))\n",
    "tupleProductWithOne.collect()"
   ]
  },
  {
   "cell_type": "code",
   "execution_count": 24,
   "metadata": {},
   "outputs": [
    {
     "data": {
      "text/plain": [
       "[('B5B1', 3), ('B1B3', 2), ('B1B4', 1), ('B4B3', 1)]"
      ]
     },
     "execution_count": 24,
     "metadata": {},
     "output_type": "execute_result"
    }
   ],
   "source": [
    "allTupleProd = list(tupleProductWithOne.countByKey().items())\n",
    "tempProd = sc.parallelize(allTupleProd)\n",
    "productPairsCounts = tempProd.sortBy(lambda x: -x[1])\n",
    "productPairsCounts.collect()\n",
    "result = productPairsCounts.zipWithIndex().filter(lambda vi: vi[1] < 10).keys()\n",
    "result.collect()"
   ]
  },
  {
   "cell_type": "code",
   "execution_count": 25,
   "metadata": {},
   "outputs": [],
   "source": [
    "outpath = 'output/output'\n",
    "if os.path.exists(outpath) and os.path.isdir(outpath):\n",
    "    shutil.rmtree(outpath)\n",
    "\n",
    "result.saveAsTextFile(outpath)"
   ]
  },
  {
   "cell_type": "code",
   "execution_count": 12,
   "metadata": {},
   "outputs": [],
   "source": [
    "sc.stop()"
   ]
  },
  {
   "cell_type": "code",
   "execution_count": null,
   "metadata": {},
   "outputs": [],
   "source": []
  }
 ],
 "metadata": {
  "interpreter": {
   "hash": "98150487c3ea4eb7b8eab087c675bf955334d0813044dccb8841940644ac4c2f"
  },
  "kernelspec": {
   "display_name": "Python 3 (ipykernel)",
   "language": "python",
   "name": "python3"
  },
  "language_info": {
   "codemirror_mode": {
    "name": "ipython",
    "version": 3
   },
   "file_extension": ".py",
   "mimetype": "text/x-python",
   "name": "python",
   "nbconvert_exporter": "python",
   "pygments_lexer": "ipython3",
   "version": "3.9.7"
  }
 },
 "nbformat": 4,
 "nbformat_minor": 4
}
